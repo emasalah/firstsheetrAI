{
 "cells": [
  {
   "cell_type": "code",
   "execution_count": null,
   "metadata": {},
   "outputs": [],
   "source": [
    "\n",
    "\n"
   ]
  },
  {
   "cell_type": "code",
   "execution_count": 52,
   "metadata": {},
   "outputs": [],
   "source": [
    "\"\"\"\n",
    "To run this script, type\n",
    "\n",
    "  python buyLotsOfFruit.py\n",
    "\n",
    "Once you have correctly implemented the buyLotsOfFruit function,\n",
    "the script should produce the output:\n",
    "\n",
    "Cost of [('apples', 2.0), ('pears', 3.0), ('limes', 4.0)] is 12.25\n",
    "\"\"\"\n",
    "from __future__ import print_function\n",
    "\n",
    "fruitPrices = {'apples': 2.00, 'oranges': 1.50, 'pears': 1.75,\n",
    "               'limes': 0.75, 'strawberries': 1.00}\n",
    "\n",
    "\n",
    "def buyLotsOfFruit(orderList):\n",
    "    \"\"\"\n",
    "        orderList: List of (fruit, numPounds) tuples\n",
    "\n",
    "    Returns cost of order\n",
    "    \"\"\"\n",
    "    totalCost = 0.0\n",
    "    for fruit,  numPounds in orderList :\n",
    "        if fruit not in fruitPrices:\n",
    "            print (\"not found\")\n",
    "        else:\n",
    "            totalCost+=fruitPrices[fruit] *  numPounds\n",
    "    return totalCost\n",
    "\n",
    "\n",
    "\n",
    "\n"
   ]
  },
  {
   "cell_type": "code",
   "execution_count": 53,
   "metadata": {},
   "outputs": [
    {
     "name": "stdout",
     "output_type": "stream",
     "text": [
      "Cost of [('apples', 2.0), ('pears', 3.0), ('limes', 4.0)] is 12.25\n"
     ]
    }
   ],
   "source": [
    "\n",
    "    orderList = [('apples', 2.0), ('pears', 3.0), ('limes', 4.0)]\n",
    "    print('Cost of', orderList, 'is', buyLotsOfFruit(orderList))\n"
   ]
  },
  {
   "cell_type": "code",
   "execution_count": 54,
   "metadata": {},
   "outputs": [
    {
     "name": "stdout",
     "output_type": "stream",
     "text": [
      "Cost of [('apples', 4.0), ('pears', 3.0), ('limes', 2.0)] is 14.75\n"
     ]
    }
   ],
   "source": [
    "\n",
    "    orderList = ([ ('apples', 4.0), ('pears',3.0), ('limes',2.0) ])\n",
    "    print('Cost of', orderList, 'is', buyLotsOfFruit(orderList))"
   ]
  },
  {
   "cell_type": "code",
   "execution_count": 55,
   "metadata": {},
   "outputs": [
    {
     "name": "stdout",
     "output_type": "stream",
     "text": [
      "Cost of [('apples', 1.25), ('pears', 1.5), ('limes', 1.75)] is 6.4375\n"
     ]
    }
   ],
   "source": [
    " orderList = ([ ('apples', 1.25), ('pears',1.50), ('limes',1.75) ])\n",
    "print('Cost of', orderList, 'is', buyLotsOfFruit(orderList))\n"
   ]
  },
  {
   "cell_type": "code",
   "execution_count": null,
   "metadata": {},
   "outputs": [],
   "source": []
  }
 ],
 "metadata": {
  "kernelspec": {
   "display_name": "Python 3",
   "language": "python",
   "name": "python3"
  },
  "language_info": {
   "codemirror_mode": {
    "name": "ipython",
    "version": 3
   },
   "file_extension": ".py",
   "mimetype": "text/x-python",
   "name": "python",
   "nbconvert_exporter": "python",
   "pygments_lexer": "ipython3",
   "version": "3.7.6"
  }
 },
 "nbformat": 4,
 "nbformat_minor": 4
}
