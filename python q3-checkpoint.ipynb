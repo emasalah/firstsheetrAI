{
 "cells": [
  {
   "cell_type": "code",
   "execution_count": 1,
   "metadata": {},
   "outputs": [],
   "source": [
    "\n",
    "class FruitShop:\n",
    "\n",
    "    def __init__(self, name, fruitPrices):\n",
    "        \"\"\"\n",
    "            name: Name of the fruit shop\n",
    "\n",
    "            fruitPrices: Dictionary with keys as fruit\n",
    "            strings and prices for values e.g.\n",
    "            {'apples':2.00, 'oranges': 1.50, 'pears': 1.75}\n",
    "        \"\"\"\n",
    "        self.fruitPrices = fruitPrices\n",
    "        self.name = name\n",
    "        print('Welcome to %s fruit shop' % (name))\n",
    "\n",
    "    def getCostPerPound(self, fruit):\n",
    "        \"\"\"\n",
    "            fruit: Fruit string\n",
    "        Returns cost of 'fruit', assuming 'fruit'\n",
    "        is in our inventory or None otherwise\n",
    "        \"\"\"\n",
    "        if fruit not in self.fruitPrices:\n",
    "            return None\n",
    "        return self.fruitPrices[fruit]\n",
    "\n",
    "    def getPriceOfOrder(self, orderList):\n",
    "        \"\"\"\n",
    "            orderList: List of (fruit, numPounds) tuples\n",
    "\n",
    "        Returns cost of orderList, only including the values of\n",
    "        fruits that this fruit shop has.\n",
    "        \"\"\"\n",
    "        totalCost = 0.0\n",
    "        for fruit, numPounds in orderList:\n",
    "            costPerPound = self.getCostPerPound(fruit)\n",
    "            if costPerPound != None:\n",
    "                totalCost += numPounds * costPerPound\n",
    "        return totalCost\n",
    "\n",
    "    def getName(self):\n",
    "        return self.name\n",
    "\n",
    "    def __str__(self):\n",
    "        return \"<FruitShop: %s>\" % self.getName()\n",
    "\n",
    "    def __repr__(self):\n",
    "        return str(self)"
   ]
  },
  {
   "cell_type": "code",
   "execution_count": 2,
   "metadata": {},
   "outputs": [],
   "source": [
    "from __future__ import print_function\n",
    "import shop\n",
    "\n",
    "\n",
    "def shopSmart(orderList, fruitShops):\n",
    "    \"\"\"\n",
    "        orderList: List of (fruit, numPound) tuples\n",
    "        fruitShops: List of FruitShops\n",
    "    \"\"\"\n",
    "    \"*** YOUR CODE HERE ***\"\n",
    "    bestShop = fruitShops[0]\n",
    "    lowestCost = bestShop.getPriceOfOrder(orderList)\n",
    "    \n",
    "    for shop in fruitShops[1:]:\n",
    "        cost = shop.getPriceOfOrder(orderList)\n",
    "        if cost < lowestCost:\n",
    "            bestShop = shop\n",
    "            lowestCost = cost\n",
    "    \n",
    "    return bestShop\n"
   ]
  },
  {
   "cell_type": "code",
   "execution_count": 3,
   "metadata": {},
   "outputs": [
    {
     "name": "stdout",
     "output_type": "stream",
     "text": [
      "Welcome to shop1 fruit shop\n",
      "Welcome to shop2 fruit shop\n",
      "Welcome to shop3 fruit shop\n",
      "For orders  [('apples', 1.0), ('oranges', 3.0)] , the best shop is shop1\n",
      "For orders:  [('apples', 3.0)] , the best shop is shop2\n",
      "For orders  [('apples', 10.0), ('oranges', 3.0)] , the best shop is shop3\n"
     ]
    }
   ],
   "source": [
    "if __name__ == '__main__':\n",
    "    \"This code runs when you invoke the script from the command line\"\n",
    "    orders = [('apples', 1.0), ('oranges', 3.0)]\n",
    "    dir1 = {'apples': 2.0, 'oranges': 1.0}\n",
    "    shop1 = shop.FruitShop('shop1', dir1)\n",
    "    dir2 = {'apples': 1.0, 'oranges': 5.0}\n",
    "    shop2 = shop.FruitShop('shop2', dir2)\n",
    "    dir3 = {'apples': 1.5, 'oranges': 2.0}\n",
    "    shop3 = shop.FruitShop('shop3',dir3)\n",
    "    shops = [shop1, shop2,shop3]\n",
    "    print(\"For orders \", orders, \", the best shop is\", shopSmart(orders, shops).getName())\n",
    "    orders = [('apples', 3.0)]\n",
    "    print(\"For orders: \", orders, \", the best shop is\", shopSmart(orders, shops).getName())\n",
    "    orders = [('apples',10.0), ('oranges',3.0)]\n",
    "    print(\"For orders \", orders, \", the best shop is\", shopSmart(orders, shops).getName())"
   ]
  },
  {
   "cell_type": "code",
   "execution_count": null,
   "metadata": {},
   "outputs": [],
   "source": [
    "\n"
   ]
  },
  {
   "cell_type": "code",
   "execution_count": null,
   "metadata": {},
   "outputs": [],
   "source": []
  }
 ],
 "metadata": {
  "kernelspec": {
   "display_name": "Python 3",
   "language": "python",
   "name": "python3"
  },
  "language_info": {
   "codemirror_mode": {
    "name": "ipython",
    "version": 3
   },
   "file_extension": ".py",
   "mimetype": "text/x-python",
   "name": "python",
   "nbconvert_exporter": "python",
   "pygments_lexer": "ipython3",
   "version": "3.7.6"
  }
 },
 "nbformat": 4,
 "nbformat_minor": 4
}
